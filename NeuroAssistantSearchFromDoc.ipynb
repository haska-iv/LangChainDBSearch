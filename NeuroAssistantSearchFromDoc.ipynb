{
  "nbformat": 4,
  "nbformat_minor": 0,
  "metadata": {
    "colab": {
      "provenance": []
    },
    "kernelspec": {
      "name": "python3",
      "display_name": "Python 3"
    },
    "language_info": {
      "name": "python"
    }
  },
  "cells": [
    {
      "cell_type": "markdown",
      "source": [
        "На основе Правил безопасности опасных производственных объектов, на которых используются подъемные сооружения, сделайте нейро-консультанта для ответов на вопросы по представленному документу. Проработайте промт самостоятельно. Проверьте работоспособность созданного консультанта на нескольких самостоятельно сформулированных вопросах. Документ для создания базы знаний: https://docs.google.com/document/d/1q4l912Re8zuIfBax4FDS3ZppYmVPzER3Si2wrmznddc"
      ],
      "metadata": {
        "id": "Y5X9yI0LOnCo"
      }
    },
    {
      "cell_type": "code",
      "execution_count": 1,
      "metadata": {
        "id": "iD5zW91MCfJQ",
        "colab": {
          "base_uri": "https://localhost:8080/"
        },
        "outputId": "b4e00dd5-d2fe-475b-aeef-d7652a52ec58"
      },
      "outputs": [
        {
          "output_type": "stream",
          "name": "stdout",
          "text": [
            "Collecting faiss-cpu\n",
            "  Downloading faiss_cpu-1.7.4-cp310-cp310-manylinux_2_17_x86_64.manylinux2014_x86_64.whl (17.6 MB)\n",
            "\u001b[2K     \u001b[90m━━━━━━━━━━━━━━━━━━━━━━━━━━━━━━━━━━━━━━━━\u001b[0m \u001b[32m17.6/17.6 MB\u001b[0m \u001b[31m39.1 MB/s\u001b[0m eta \u001b[36m0:00:00\u001b[0m\n",
            "\u001b[?25hCollecting langchain==0.0.271\n",
            "  Downloading langchain-0.0.271-py3-none-any.whl (1.5 MB)\n",
            "\u001b[2K     \u001b[90m━━━━━━━━━━━━━━━━━━━━━━━━━━━━━━━━━━━━━━━━\u001b[0m \u001b[32m1.5/1.5 MB\u001b[0m \u001b[31m37.3 MB/s\u001b[0m eta \u001b[36m0:00:00\u001b[0m\n",
            "\u001b[?25hCollecting openai==0.28.1\n",
            "  Downloading openai-0.28.1-py3-none-any.whl (76 kB)\n",
            "\u001b[2K     \u001b[90m━━━━━━━━━━━━━━━━━━━━━━━━━━━━━━━━━━━━━━━━\u001b[0m \u001b[32m77.0/77.0 kB\u001b[0m \u001b[31m8.3 MB/s\u001b[0m eta \u001b[36m0:00:00\u001b[0m\n",
            "\u001b[?25hCollecting tiktoken\n",
            "  Downloading tiktoken-0.5.2-cp310-cp310-manylinux_2_17_x86_64.manylinux2014_x86_64.whl (2.0 MB)\n",
            "\u001b[2K     \u001b[90m━━━━━━━━━━━━━━━━━━━━━━━━━━━━━━━━━━━━━━━━\u001b[0m \u001b[32m2.0/2.0 MB\u001b[0m \u001b[31m45.2 MB/s\u001b[0m eta \u001b[36m0:00:00\u001b[0m\n",
            "\u001b[?25hRequirement already satisfied: PyYAML>=5.3 in /usr/local/lib/python3.10/dist-packages (from langchain==0.0.271) (6.0.1)\n",
            "Requirement already satisfied: SQLAlchemy<3,>=1.4 in /usr/local/lib/python3.10/dist-packages (from langchain==0.0.271) (2.0.23)\n",
            "Requirement already satisfied: aiohttp<4.0.0,>=3.8.3 in /usr/local/lib/python3.10/dist-packages (from langchain==0.0.271) (3.9.1)\n",
            "Requirement already satisfied: async-timeout<5.0.0,>=4.0.0 in /usr/local/lib/python3.10/dist-packages (from langchain==0.0.271) (4.0.3)\n",
            "Collecting dataclasses-json<0.6.0,>=0.5.7 (from langchain==0.0.271)\n",
            "  Downloading dataclasses_json-0.5.14-py3-none-any.whl (26 kB)\n",
            "Collecting langsmith<0.1.0,>=0.0.21 (from langchain==0.0.271)\n",
            "  Downloading langsmith-0.0.77-py3-none-any.whl (48 kB)\n",
            "\u001b[2K     \u001b[90m━━━━━━━━━━━━━━━━━━━━━━━━━━━━━━━━━━━━━━━━\u001b[0m \u001b[32m48.2/48.2 kB\u001b[0m \u001b[31m4.6 MB/s\u001b[0m eta \u001b[36m0:00:00\u001b[0m\n",
            "\u001b[?25hRequirement already satisfied: numexpr<3.0.0,>=2.8.4 in /usr/local/lib/python3.10/dist-packages (from langchain==0.0.271) (2.8.8)\n",
            "Requirement already satisfied: numpy<2,>=1 in /usr/local/lib/python3.10/dist-packages (from langchain==0.0.271) (1.23.5)\n",
            "Requirement already satisfied: pydantic<3,>=1 in /usr/local/lib/python3.10/dist-packages (from langchain==0.0.271) (1.10.13)\n",
            "Requirement already satisfied: requests<3,>=2 in /usr/local/lib/python3.10/dist-packages (from langchain==0.0.271) (2.31.0)\n",
            "Requirement already satisfied: tenacity<9.0.0,>=8.1.0 in /usr/local/lib/python3.10/dist-packages (from langchain==0.0.271) (8.2.3)\n",
            "Requirement already satisfied: tqdm in /usr/local/lib/python3.10/dist-packages (from openai==0.28.1) (4.66.1)\n",
            "Requirement already satisfied: regex>=2022.1.18 in /usr/local/lib/python3.10/dist-packages (from tiktoken) (2023.6.3)\n",
            "Requirement already satisfied: attrs>=17.3.0 in /usr/local/lib/python3.10/dist-packages (from aiohttp<4.0.0,>=3.8.3->langchain==0.0.271) (23.1.0)\n",
            "Requirement already satisfied: multidict<7.0,>=4.5 in /usr/local/lib/python3.10/dist-packages (from aiohttp<4.0.0,>=3.8.3->langchain==0.0.271) (6.0.4)\n",
            "Requirement already satisfied: yarl<2.0,>=1.0 in /usr/local/lib/python3.10/dist-packages (from aiohttp<4.0.0,>=3.8.3->langchain==0.0.271) (1.9.4)\n",
            "Requirement already satisfied: frozenlist>=1.1.1 in /usr/local/lib/python3.10/dist-packages (from aiohttp<4.0.0,>=3.8.3->langchain==0.0.271) (1.4.1)\n",
            "Requirement already satisfied: aiosignal>=1.1.2 in /usr/local/lib/python3.10/dist-packages (from aiohttp<4.0.0,>=3.8.3->langchain==0.0.271) (1.3.1)\n",
            "Collecting marshmallow<4.0.0,>=3.18.0 (from dataclasses-json<0.6.0,>=0.5.7->langchain==0.0.271)\n",
            "  Downloading marshmallow-3.20.1-py3-none-any.whl (49 kB)\n",
            "\u001b[2K     \u001b[90m━━━━━━━━━━━━━━━━━━━━━━━━━━━━━━━━━━━━━━━━\u001b[0m \u001b[32m49.4/49.4 kB\u001b[0m \u001b[31m5.5 MB/s\u001b[0m eta \u001b[36m0:00:00\u001b[0m\n",
            "\u001b[?25hCollecting typing-inspect<1,>=0.4.0 (from dataclasses-json<0.6.0,>=0.5.7->langchain==0.0.271)\n",
            "  Downloading typing_inspect-0.9.0-py3-none-any.whl (8.8 kB)\n",
            "Requirement already satisfied: typing-extensions>=4.2.0 in /usr/local/lib/python3.10/dist-packages (from pydantic<3,>=1->langchain==0.0.271) (4.5.0)\n",
            "Requirement already satisfied: charset-normalizer<4,>=2 in /usr/local/lib/python3.10/dist-packages (from requests<3,>=2->langchain==0.0.271) (3.3.2)\n",
            "Requirement already satisfied: idna<4,>=2.5 in /usr/local/lib/python3.10/dist-packages (from requests<3,>=2->langchain==0.0.271) (3.6)\n",
            "Requirement already satisfied: urllib3<3,>=1.21.1 in /usr/local/lib/python3.10/dist-packages (from requests<3,>=2->langchain==0.0.271) (2.0.7)\n",
            "Requirement already satisfied: certifi>=2017.4.17 in /usr/local/lib/python3.10/dist-packages (from requests<3,>=2->langchain==0.0.271) (2023.11.17)\n",
            "Requirement already satisfied: greenlet!=0.4.17 in /usr/local/lib/python3.10/dist-packages (from SQLAlchemy<3,>=1.4->langchain==0.0.271) (3.0.2)\n",
            "Requirement already satisfied: packaging>=17.0 in /usr/local/lib/python3.10/dist-packages (from marshmallow<4.0.0,>=3.18.0->dataclasses-json<0.6.0,>=0.5.7->langchain==0.0.271) (23.2)\n",
            "Collecting mypy-extensions>=0.3.0 (from typing-inspect<1,>=0.4.0->dataclasses-json<0.6.0,>=0.5.7->langchain==0.0.271)\n",
            "  Downloading mypy_extensions-1.0.0-py3-none-any.whl (4.7 kB)\n",
            "Installing collected packages: faiss-cpu, mypy-extensions, marshmallow, typing-inspect, tiktoken, langsmith, openai, dataclasses-json, langchain\n",
            "\u001b[31mERROR: pip's dependency resolver does not currently take into account all the packages that are installed. This behaviour is the source of the following dependency conflicts.\n",
            "llmx 0.0.15a0 requires cohere, which is not installed.\u001b[0m\u001b[31m\n",
            "\u001b[0mSuccessfully installed dataclasses-json-0.5.14 faiss-cpu-1.7.4 langchain-0.0.271 langsmith-0.0.77 marshmallow-3.20.1 mypy-extensions-1.0.0 openai-0.28.1 tiktoken-0.5.2 typing-inspect-0.9.0\n"
          ]
        }
      ],
      "source": [
        "!pip install faiss-cpu langchain==0.0.271 openai==0.28.1 tiktoken"
      ]
    },
    {
      "cell_type": "code",
      "source": [
        "import os\n",
        "import getpass\n",
        "import openai\n",
        "\n",
        "openai_key = getpass.getpass(\"OpenAI API Key:\")\n",
        "os.environ[\"OPENAI_API_KEY\"] = openai_key\n",
        "openai.api_key = openai_key"
      ],
      "metadata": {
        "id": "1DfO5yJRPfIw",
        "colab": {
          "base_uri": "https://localhost:8080/"
        },
        "outputId": "8376c1c8-1d71-4fc1-9e10-e42e5d7d2db9"
      },
      "execution_count": 2,
      "outputs": [
        {
          "name": "stdout",
          "output_type": "stream",
          "text": [
            "OpenAI API Key:··········\n"
          ]
        }
      ]
    },
    {
      "cell_type": "code",
      "source": [
        "from langchain.embeddings.openai import OpenAIEmbeddings\n",
        "from langchain.vectorstores import FAISS\n",
        "from langchain.text_splitter import RecursiveCharacterTextSplitter\n",
        "import re\n",
        "import requests\n",
        "import openai\n",
        "from langchain.docstore.document import Document"
      ],
      "metadata": {
        "id": "VcoZUPuZPfLf"
      },
      "execution_count": 3,
      "outputs": []
    },
    {
      "cell_type": "code",
      "source": [
        "def load_google_doc_in_text_format(url: str) -> str:\n",
        "    match_ = re.search('/document/d/([a-zA-Z0-9-_]+)', url)\n",
        "    if match_ is None:\n",
        "        raise ValueError('Invalid Google Docs URL')\n",
        "    doc_id = match_.group(1)\n",
        "\n",
        "    response = requests.get(f'https://docs.google.com/document/d/{doc_id}/export?format=txt')\n",
        "    response.raise_for_status()\n",
        "    text = response.text\n",
        "\n",
        "    return text"
      ],
      "metadata": {
        "id": "YrIz1DsCs_0P"
      },
      "execution_count": 4,
      "outputs": []
    },
    {
      "cell_type": "code",
      "source": [
        "link_text = 'https://docs.google.com/document/d/1q4l912Re8zuIfBax4FDS3ZppYmVPzER3Si2wrmznddc'\n",
        "data_from_url= load_google_doc_in_text_format(link_text)"
      ],
      "metadata": {
        "id": "5dX5A1EjtAxn"
      },
      "execution_count": 5,
      "outputs": []
    },
    {
      "cell_type": "code",
      "source": [
        "chunks=[]\n",
        "splitter = RecursiveCharacterTextSplitter(chunk_size=1024, chunk_overlap=0)\n",
        "for chunk in splitter.split_text(data_from_url):\n",
        "    chunks.append(Document(page_content=chunk, metadata={}))"
      ],
      "metadata": {
        "colab": {
          "base_uri": "https://localhost:8080/"
        },
        "id": "mTOlhMCutUfy",
        "outputId": "0f61bd09-62ca-40ba-9ff8-806887c30427"
      },
      "execution_count": 6,
      "outputs": [
        {
          "output_type": "stream",
          "name": "stdout",
          "text": [
            "Общее количество чанков:  238\n"
          ]
        }
      ]
    },
    {
      "cell_type": "code",
      "source": [
        "embeddings = OpenAIEmbeddings()\n",
        "\n",
        "# Создадим индексную базу из разделенных фрагментов текста\n",
        "db = FAISS.from_documents(chunks, embeddings)"
      ],
      "metadata": {
        "id": "peG3FbNMtlgs"
      },
      "execution_count": 7,
      "outputs": []
    },
    {
      "cell_type": "code",
      "source": [
        "def insert_newlines(text: str, max_len: int = 170) -> str:\n",
        "    words = text.split()\n",
        "    lines = []\n",
        "    current_line = \"\"\n",
        "    for word in words:\n",
        "        if len(current_line + \" \" + word) > max_len:\n",
        "            lines.append(current_line)\n",
        "            current_line = \"\"\n",
        "        current_line += \" \" + word\n",
        "    lines.append(current_line)\n",
        "    return \" \".join(lines)\n",
        "\n",
        "def answer_index(system, topic, search_index, temp=1, verbose=1):\n",
        "\n",
        "    # Поиск релевантных отрезков из базы знаний\n",
        "    docs = search_index.similarity_search(topic, k=4)\n",
        "    if verbose: print('\\n ===========================================: ')\n",
        "    message_content = re.sub(r'\\n{2}', ' ', '\\n '.join([f'\\nОтрывок документа №{i+1}\\n=====================' + doc.page_content + '\\n' for i, doc in enumerate(docs)]))\n",
        "    if verbose: print('message_content :\\n ======================================== \\n', message_content)\n",
        "\n",
        "    messages = [\n",
        "        {\"role\": \"system\", \"content\": system},\n",
        "        {\"role\": \"user\", \"content\": f\"Ответь на вопрос сотрудника на основе представленной информации. Не упоминай документ с информацией для ответа сотруднику в ответе. Документ с информацией для ответа сотруднику: {message_content}\\n\\nВопрос сотрудника: \\n{topic}\"}\n",
        "    ]\n",
        "\n",
        "    if verbose: print('\\n ===========================================: ')\n",
        "\n",
        "    completion = openai.ChatCompletion.create(\n",
        "        model=\"gpt-3.5-turbo\",\n",
        "        messages=messages,\n",
        "        temperature=0\n",
        "    )\n",
        "    answer = insert_newlines(completion.choices[0].message.content)\n",
        "    return answer  # возвращает ответ"
      ],
      "metadata": {
        "id": "eLqKgcyrtorc"
      },
      "execution_count": 8,
      "outputs": []
    },
    {
      "cell_type": "code",
      "source": [
        "# Напишите инструкцию для gpt\n",
        "system=\"Ты инженер по производственной безопасности, отвечай четко, чтобы сотрудник задавший вопрос понял о чем идет речь\""
      ],
      "metadata": {
        "id": "-ll5sI69t96-"
      },
      "execution_count": 10,
      "outputs": []
    },
    {
      "cell_type": "code",
      "source": [
        "# вопрос пользователя\n",
        "topic= \"как устанавливаются электрические тали\"\n",
        "ans=answer_index(system, topic, db)\n",
        "ans"
      ],
      "metadata": {
        "colab": {
          "base_uri": "https://localhost:8080/",
          "height": 385
        },
        "id": "_4Xt3J4uuD12",
        "outputId": "819df1b9-562e-472a-91f8-ac8685bfb1eb"
      },
      "execution_count": 11,
      "outputs": [
        {
          "output_type": "stream",
          "name": "stdout",
          "text": [
            "\n",
            " ===========================================: \n",
            "message_content :\n",
            " ======================================== \n",
            " \n",
            "Отрывок документа №1\n",
            "=====================консоли противовеса или от противовеса, расположенного под консолью башенного крана, до площадок, на которых могут находиться люди, должно быть не менее 2 м. 106. Установка электрических талей и монорельсовых тележек с автоматическим или полуавтоматическим управлением, при котором указанное ПС не сопровождается крановщиком или оператором, должна исключать возможность задевания грузом элементов здания, оборудования и штабелей грузов. На пути следования указанных ПС должно быть исключено нахождение людей. Над проезжей частью и над проходами для людей должны быть установлены предохранительные перекрытия (сетка), способные выдержать падающий груз. 107. Установка кранов, передвигающихся по рельсовому пути, в охранной зоне воздушных линий электропередачи должна быть согласована с владельцем линии. Согласование на такую установку для выполнения строительно-монтажных работ должно храниться вместе с ППР. 108. Установка кранов стрелового типа, кранов-манипуляторов, подъемников (вышек) должна производиться на  \n",
            "Отрывок документа №2\n",
            "=====================технологических машинах, используемые только для ремонта этих машин; ж) электрические тали грузоподъемностью до 10 т включительно, используемые как самостоятельные ПС; з) краны-манипуляторы, установленные на фундаменте, и краны-манипуляторы грузоподъемностью до 1 т или с грузовым моментом до 4 т*м включительно; и) грузовые строительные подъемники; к) мостовые краны-штабелеры; л) краны-трубоукладчики. Порядок безопасной эксплуатации ПС, не подлежащих учету в федеральных органах исполнительной власти в области промышленной безопасности, осуществляющих ведение реестра ОПО, или Госкорпорации \"Росатом\", устанавливаются в соответствии с требованиями руководств (инструкций) по эксплуатации ПС и утвержденной производственной инструкцией (положением), разработанной в организации, эксплуатирующей эти ПС. Организация безопасной эксплуатации ПС в составе ОПО 146. Производственный контроль за безопасной эксплуатацией ПС в составе ОПО должен осуществляться в соответствии с Правилами организации и осуществления  \n",
            "Отрывок документа №3\n",
            "=====================ПС, установленных на наземном рельсовом пути, с питающим электрическим кабелем и кабельным барабаном основание пути должно быть спланировано на уровне верха полушпал (железобетонной балки) или вдоль рельсового пути должен быть установлен лоток для кабеля. Для ПС без кабельного барабана наличие вдоль рельсового пути лотка для кабеля обязательно. 201. Переезд транспортных средств через пути ПС, передвигающихся по наземному рельсовому пути, должен быть обустроен эксплуатирующей организацией с учетом интенсивности движения транспортных средств. 202. Пересечение путей козловых, башенных и портальных кранов с рельсовыми путями заводского транспорта допускается после разработки эксплуатирующей организацией мероприятий по предупреждению столкновения работающих кранов с подвижным составом. Пересечение рельсового пути портального крана с железнодорожными путями допускается после разработки эксплуатирующей организацией мероприятий по предупреждению столкновения работающих кранов с подвижным составом и согласования  \n",
            "Отрывок документа №4\n",
            "=====================конструкций) с целью проверки допустимости увеличившейся нагрузки. Расчет должен быть приложен к паспорту ПС. 199. Рельсовый путь ПС (исключая рельсовые пути башенных и железнодорожных кранов) и рельсовый путь грузовых подвесных тележек или электрических талей, оборудованный стрелками или поворотными кругами, а также места перехода ПС или его грузовой тележки с одного путина другой должны отвечать следующим требованиям: а) обеспечивать плавный, без заеданий, проезд; б) быть оборудованными замками с электрической блокировкой, исключающей переезд при незапертом замке; в) иметь автоматически включаемую блокировку, исключающую сход грузовой тележки (электрической тали) с рельса при выезде ее на консоль расстыкованного участка пути; г) обеспечивать управление переводом стрелки или поворотного круга от сигнала системы управления грузовой тележкой (электрической талью); д) быть оборудованными единым выключателем для подачи напряжения на троллеи (или электрический Об утверждении федеральных норм и правил в области\n",
            "\n",
            "\n",
            " ===========================================: \n"
          ]
        },
        {
          "output_type": "execute_result",
          "data": {
            "text/plain": [
              "' Электрические тали устанавливаются в соответствии с требованиями безопасности, изложенными в документе №1. Важно, чтобы установка талей и монорельсовых тележек исключала  возможность задевания грузом элементов здания, оборудования и штабелей грузов. Также необходимо исключить нахождение людей на пути следования этих подъемных средств. Для  безопасности переходов через пути талей должны быть установлены предохранительные перекрытия (сетка), способные выдержать падающий груз. При установке талей на наземном  рельсовом пути, необходимо спланировать основание пути на уровне верха полушпал или установить лоток для кабеля вдоль рельсового пути.'"
            ],
            "application/vnd.google.colaboratory.intrinsic+json": {
              "type": "string"
            }
          },
          "metadata": {},
          "execution_count": 11
        }
      ]
    }
  ]
}